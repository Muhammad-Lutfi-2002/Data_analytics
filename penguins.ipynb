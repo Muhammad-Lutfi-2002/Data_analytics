{
  "nbformat": 4,
  "nbformat_minor": 0,
  "metadata": {
    "colab": {
      "provenance": [],
      "authorship_tag": "ABX9TyNlTvcvKprnEIXaqccV0g76",
      "include_colab_link": true
    },
    "kernelspec": {
      "name": "python3",
      "display_name": "Python 3"
    },
    "language_info": {
      "name": "python"
    }
  },
  "cells": [
    {
      "cell_type": "markdown",
      "metadata": {
        "id": "view-in-github",
        "colab_type": "text"
      },
      "source": [
        "<a href=\"https://colab.research.google.com/github/Muhammad-Lutfi-2002/Data_analytics/blob/main/penguins.ipynb\" target=\"_parent\"><img src=\"https://colab.research.google.com/assets/colab-badge.svg\" alt=\"Open In Colab\"/></a>"
      ]
    },
    {
      "cell_type": "code",
      "execution_count": 1,
      "metadata": {
        "id": "EwbsGlWRqZE_"
      },
      "outputs": [],
      "source": [
        "import pandas as pd\n",
        "import matplotlib.pyplot as plt\n",
        "from sklearn.cluster import KMeans\n",
        "from sklearn.preprocessing import StandardScaler"
      ]
    },
    {
      "cell_type": "code",
      "source": [
        "# Load the dataset\n",
        "penguins_df = pd.read_csv('penguins.csv')\n",
        "\n",
        "# Investigate the dataset\n",
        "print(penguins_df.head())"
      ],
      "metadata": {
        "colab": {
          "base_uri": "https://localhost:8080/",
          "height": 0
        },
        "id": "a3MNYZ2IqjT2",
        "outputId": "faaf01ac-7b58-4945-90ef-937ee54b9817"
      },
      "execution_count": 2,
      "outputs": [
        {
          "output_type": "stream",
          "name": "stdout",
          "text": [
            "   culmen_length_mm  culmen_depth_mm  flipper_length_mm  body_mass_g     sex\n",
            "0              39.1             18.7              181.0       3750.0    MALE\n",
            "1              39.5             17.4              186.0       3800.0  FEMALE\n",
            "2              40.3             18.0              195.0       3250.0  FEMALE\n",
            "3               NaN              NaN                NaN          NaN     NaN\n",
            "4              36.7             19.3              193.0       3450.0  FEMALE\n"
          ]
        }
      ]
    },
    {
      "cell_type": "code",
      "source": [
        "print(penguins_df.info())"
      ],
      "metadata": {
        "colab": {
          "base_uri": "https://localhost:8080/",
          "height": 0
        },
        "id": "geqY-Px9qoVm",
        "outputId": "e79a5089-0271-435d-a9c8-34a5ddeda548"
      },
      "execution_count": 3,
      "outputs": [
        {
          "output_type": "stream",
          "name": "stdout",
          "text": [
            "<class 'pandas.core.frame.DataFrame'>\n",
            "RangeIndex: 344 entries, 0 to 343\n",
            "Data columns (total 5 columns):\n",
            " #   Column             Non-Null Count  Dtype  \n",
            "---  ------             --------------  -----  \n",
            " 0   culmen_length_mm   342 non-null    float64\n",
            " 1   culmen_depth_mm    342 non-null    float64\n",
            " 2   flipper_length_mm  342 non-null    float64\n",
            " 3   body_mass_g        342 non-null    float64\n",
            " 4   sex                335 non-null    object \n",
            "dtypes: float64(4), object(1)\n",
            "memory usage: 13.6+ KB\n",
            "None\n"
          ]
        }
      ]
    },
    {
      "cell_type": "code",
      "source": [
        "# Pre-process the dataset\n",
        "# Drop rows with missing values\n",
        "penguins_df.dropna(inplace=True)"
      ],
      "metadata": {
        "id": "NYMV4uraqqQt"
      },
      "execution_count": 4,
      "outputs": []
    },
    {
      "cell_type": "code",
      "source": [
        "# Convert 'sex' to numeric if needed (e.g., using one-hot encoding)\n",
        "penguins_df['sex'] = penguins_df['sex'].map({'MALE': 0, 'FEMALE': 1})\n",
        "print(penguins_df.head())"
      ],
      "metadata": {
        "colab": {
          "base_uri": "https://localhost:8080/",
          "height": 0
        },
        "id": "KZbgPhKbqsC-",
        "outputId": "6eb8abb6-f346-4891-ad6c-fceb654b2bd1"
      },
      "execution_count": 5,
      "outputs": [
        {
          "output_type": "stream",
          "name": "stdout",
          "text": [
            "   culmen_length_mm  culmen_depth_mm  flipper_length_mm  body_mass_g  sex\n",
            "0              39.1             18.7              181.0       3750.0  0.0\n",
            "1              39.5             17.4              186.0       3800.0  1.0\n",
            "2              40.3             18.0              195.0       3250.0  1.0\n",
            "4              36.7             19.3              193.0       3450.0  1.0\n",
            "5              39.3             20.6              190.0       3650.0  0.0\n"
          ]
        }
      ]
    },
    {
      "cell_type": "code",
      "source": [
        "# Define features for clustering\n",
        "features = ['culmen_length_mm', 'culmen_depth_mm', 'flipper_length_mm', 'body_mass_g']\n",
        "X = penguins_df[features]"
      ],
      "metadata": {
        "id": "pPM0lnNhquGu"
      },
      "execution_count": 6,
      "outputs": []
    },
    {
      "cell_type": "code",
      "source": [
        "# Standardize the features\n",
        "scaler = StandardScaler()\n",
        "X_scaled = scaler.fit_transform(X)"
      ],
      "metadata": {
        "id": "8578EBN5qv4Q"
      },
      "execution_count": 7,
      "outputs": []
    },
    {
      "cell_type": "code",
      "source": [
        "# Range of cluster numbers to try\n",
        "cluster_range = range(1, 11)\n",
        "inertia_values = []\n",
        "\n",
        "# Perform KMeans for each number of clusters and store the inertia (within-cluster sum of squares)\n",
        "for k in cluster_range:\n",
        "    kmeans = KMeans(n_clusters=k, random_state=42)\n",
        "    kmeans.fit(X_scaled)\n",
        "    inertia_values.append(kmeans.inertia_)\n",
        "\n",
        "# Plot the elbow curve\n",
        "plt.figure(figsize=(8, 6))\n",
        "plt.plot(cluster_range, inertia_values, marker='o', linestyle='--')\n",
        "plt.title('Elbow Method for Optimal Number of Clusters')\n",
        "plt.xlabel('Number of Clusters')\n",
        "plt.ylabel('Inertia')\n",
        "plt.xticks(cluster_range)\n",
        "plt.show()"
      ],
      "metadata": {
        "colab": {
          "base_uri": "https://localhost:8080/",
          "height": 564
        },
        "id": "BkaG0lsSqxsd",
        "outputId": "1d8f28b5-ce98-45a0-923a-10500aafb03d"
      },
      "execution_count": 8,
      "outputs": [
        {
          "output_type": "display_data",
          "data": {
            "text/plain": [
              "<Figure size 800x600 with 1 Axes>"
            ],
            "image/png": "[encoded data removed]"
          },
          "metadata": {}
        }
      ]
    },
    {
      "cell_type": "code",
      "source": [
        "# Determine the number of clusters\n",
        "# Let's try with 4 clusters initially\n",
        "kmeans = KMeans(n_clusters=4, random_state=42)\n",
        "clusters = kmeans.fit_predict(X_scaled)"
      ],
      "metadata": {
        "id": "5ddMoHSGqz4j"
      },
      "execution_count": 9,
      "outputs": []
    },
    {
      "cell_type": "code",
      "source": [
        "# Add the cluster labels to the original DataFrame\n",
        "penguins_df['cluster'] = clusters\n",
        "print(penguins_df.head())"
      ],
      "metadata": {
        "colab": {
          "base_uri": "https://localhost:8080/",
          "height": 0
        },
        "id": "Lzu2jiqEq1k7",
        "outputId": "e89f49d3-ab1c-4ad7-d160-ec682cc4dd15"
      },
      "execution_count": 10,
      "outputs": [
        {
          "output_type": "stream",
          "name": "stdout",
          "text": [
            "   culmen_length_mm  culmen_depth_mm  flipper_length_mm  body_mass_g  sex  \\\n",
            "0              39.1             18.7              181.0       3750.0  0.0   \n",
            "1              39.5             17.4              186.0       3800.0  1.0   \n",
            "2              40.3             18.0              195.0       3250.0  1.0   \n",
            "4              36.7             19.3              193.0       3450.0  1.0   \n",
            "5              39.3             20.6              190.0       3650.0  0.0   \n",
            "\n",
            "   cluster  \n",
            "0        0  \n",
            "1        0  \n",
            "2        0  \n",
            "4        0  \n",
            "5        0  \n"
          ]
        }
      ]
    },
    {
      "cell_type": "code",
      "source": [
        "# Compute the mean values for each cluster\n",
        "stat_penguins = penguins_df.groupby('cluster').mean()\n",
        "stat_penguins = stat_penguins[features]  # Exclude non-numeric columns\n",
        "\n",
        "print(stat_penguins)"
      ],
      "metadata": {
        "colab": {
          "base_uri": "https://localhost:8080/",
          "height": 0
        },
        "id": "lOnY6JDLq3LF",
        "outputId": "44d2189c-db61-4683-e5a3-db7a53075a0d"
      },
      "execution_count": 11,
      "outputs": [
        {
          "output_type": "stream",
          "name": "stdout",
          "text": [
            "         culmen_length_mm  culmen_depth_mm  flipper_length_mm  body_mass_g\n",
            "cluster                                                                   \n",
            "0               38.703448        18.228966         187.406897  3657.068966\n",
            "1               47.542500        15.002500         217.233333  5090.625000\n",
            "2               42.000000        20.200000        5000.000000  4250.000000\n",
            "3               48.942029        18.668116         196.623188  3835.869565\n"
          ]
        }
      ]
    }
  ]
}