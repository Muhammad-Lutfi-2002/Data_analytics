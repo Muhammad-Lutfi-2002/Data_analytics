{
  "nbformat": 4,
  "nbformat_minor": 0,
  "metadata": {
    "colab": {
      "provenance": [],
      "authorship_tag": "ABX9TyPiyExqi3P+QW82uehSV10K",
      "include_colab_link": true
    },
    "kernelspec": {
      "name": "python3",
      "display_name": "Python 3"
    },
    "language_info": {
      "name": "python"
    }
  },
  "cells": [
    {
      "cell_type": "markdown",
      "metadata": {
        "id": "view-in-github",
        "colab_type": "text"
      },
      "source": [
        "<a href=\"https://colab.research.google.com/github/Muhammad-Lutfi-2002/Data_analytics/blob/main/Survey_Participation_Analytics_.ipynb\" target=\"_parent\"><img src=\"https://colab.research.google.com/assets/colab-badge.svg\" alt=\"Open In Colab\"/></a>"
      ]
    },
    {
      "cell_type": "code",
      "execution_count": null,
      "metadata": {
        "id": "GMe7kMSDf_x2"
      },
      "outputs": [],
      "source": [
        "import pandas as pd\n",
        "import numpy as np\n",
        "from datetime import datetime\n",
        "import warnings\n",
        "warnings.filterwarnings('ignore')\n",
        "\n",
        "# 1. Data Loading dan Initial Cleaning\n",
        "def load_and_clean_data():\n",
        "    # Load datasets\n",
        "    users_df = pd.read_csv('users.csv')\n",
        "    surveys_df = pd.read_csv('surveys.csv')\n",
        "    participations_df = pd.read_csv('survey_participations.csv')\n",
        "    payments_df = pd.read_csv('payments.csv')\n",
        "    # Convert date columns\n",
        "    date_columns = {\n",
        "        'users_df': ['created_at'],\n",
        "        'surveys_df': ['created_at', 'end_at'],\n",
        "        'participations_df': ['response_date'],\n",
        "        'payments_df': ['payment_date']\n",
        "    }\n",
        "\n",
        "    for df_name, columns in date_columns.items():\n",
        "        for col in columns:\n",
        "            locals()[df_name][col] = pd.to_datetime(locals()[df_name][col])\n",
        "\n",
        "    return users_df, surveys_df, participations_df, payments_df"
      ]
    },
    {
      "cell_type": "markdown",
      "source": [],
      "metadata": {
        "id": "WVVDmvUCg42i"
      }
    },
    {
      "cell_type": "code",
      "source": [
        "# 2. Data Cleaning Functions\n",
        "def clean_users_data(df):\n",
        "    # Copy dataframe to avoid modifications to original\n",
        "    df_clean = df.copy()\n",
        "    # Handle missing values\n",
        "    df_clean['gender'] = df_clean['gender'].fillna('Not Specified')\n",
        "    df_clean['education'] = df_clean['education'].fillna('Not Specified')\n",
        "    df_clean['occupation'] = df_clean['occupation'].fillna('Not Specified')\n",
        "    df_clean['city'] = df_clean['city'].fillna('Unknown')\n",
        "    # Standardize text columns\n",
        "    text_columns = ['gender', 'education', 'occupation', 'city']\n",
        "    for col in text_columns:\n",
        "        df_clean[col] = df_clean[col].str.strip().str.title()\n",
        "\n",
        "    # Remove duplicates\n",
        "    df_clean = df_clean.drop_duplicates(subset=['user_id'])\n",
        "\n",
        "    return df_clean"
      ],
      "metadata": {
        "id": "_Re0ajuegfdS"
      },
      "execution_count": null,
      "outputs": []
    },
    {
      "cell_type": "code",
      "source": [
        "def clean_surveys_data(df):\n",
        "    df_clean = df.copy()\n",
        "\n",
        "    # Handle missing values\n",
        "    df_clean['reward'] = df_clean['reward'].fillna(df_clean['reward'].mean())\n",
        "    df_clean['participant_needed'] = df_clean['participant_needed'].fillna(0)\n",
        "    df_clean['status'] = df_clean['status'].fillna('Unknown')\n",
        "\n",
        "    # Remove surveys with invalid dates\n",
        "    df_clean = df_clean[df_clean['end_at'] >= df_clean['created_at']]\n",
        "\n",
        "    # Remove duplicates\n",
        "    df_clean = df_clean.drop_duplicates(subset=['survey_id'])\n",
        "\n",
        "    return df_clean"
      ],
      "metadata": {
        "id": "5DtGqyB6g-rO"
      },
      "execution_count": null,
      "outputs": []
    },
    {
      "cell_type": "code",
      "source": [
        "def clean_participations_data(df):\n",
        "    df_clean = df.copy()\n",
        "\n",
        "    # Remove duplicates\n",
        "    df_clean = df_clean.drop_duplicates(subset=['participation_id'])\n",
        "\n",
        "    # Sort by response date\n",
        "    df_clean = df_clean.sort_values('response_date')\n",
        "\n",
        "    return df_clean"
      ],
      "metadata": {
        "id": "C2ZgBoKJhesS"
      },
      "execution_count": null,
      "outputs": []
    },
    {
      "cell_type": "code",
      "source": [
        "def clean_payments_data(df):\n",
        "    df_clean = df.copy()\n",
        "\n",
        "    # Remove negative or zero amounts\n",
        "    df_clean = df_clean[df_clean['amount'] > 0]\n",
        "\n",
        "    # Remove duplicates\n",
        "    df_clean = df_clean.drop_duplicates(subset=['payment_id'])\n",
        "\n",
        "    # Sort by payment date\n",
        "    df_clean = df_clean.sort_values('payment_date')\n",
        "\n",
        "    return df_clean"
      ],
      "metadata": {
        "id": "5Y_HEmdbhhO4"
      },
      "execution_count": null,
      "outputs": []
    },
    {
      "cell_type": "code",
      "source": [
        "# 3. Data Validation Functions\n",
        "def validate_data_integrity(users_df, surveys_df, participations_df, payments_df):\n",
        "    validation_results = {\n",
        "        'missing_users': [],\n",
        "        'missing_surveys': [],\n",
        "        'invalid_payments': []\n",
        "    }\n",
        "    # Check if all users in participations exist in users table\n",
        "    participating_users = participations_df['user_id'].unique()\n",
        "    existing_users = users_df['user_id'].unique()\n",
        "    validation_results['missing_users'] = [u for u in participating_users if u not in existing_users]\n",
        "    # Check if all surveys in participations exist in surveys table\n",
        "    participating_surveys = participations_df['survey_id'].unique()\n",
        "    existing_surveys = surveys_df['survey_id'].unique()\n",
        "    validation_results['missing_surveys'] = [s for s in participating_surveys if s not in existing_surveys]\n",
        "\n",
        "    # Check payment amounts against survey rewards\n",
        "    merged_payments = payments_df.merge(surveys_df[['survey_id', 'reward']], on='survey_id', how='left')\n",
        "    validation_results['invalid_payments'] = merged_payments[\n",
        "        merged_payments['amount'] > merged_payments['reward'] * 1.1\n",
        "    ]['payment_id'].tolist()\n",
        "\n",
        "    return validation_results\n",
        "\n"
      ],
      "metadata": {
        "id": "WvNEsyZphjqA"
      },
      "execution_count": null,
      "outputs": []
    },
    {
      "cell_type": "code",
      "source": [
        "# 4. Create Clean Dataset\n",
        "def create_clean_dataset():\n",
        "    # Load raw data\n",
        "    users_df, surveys_df, participations_df, payments_df = load_and_clean_data()\n",
        "    # Clean individual datasets\n",
        "    users_clean = clean_users_data(users_df)\n",
        "    surveys_clean = clean_surveys_data(surveys_df)\n",
        "    participations_clean = clean_participations_data(participations_df)\n",
        "    payments_clean = clean_payments_data(payments_df)\n",
        "    # Validate data integrity\n",
        "    validation_results = validate_data_integrity(\n",
        "        users_clean,\n",
        "        surveys_clean,\n",
        "        participations_clean,\n",
        "        payments_clean\n",
        "    )\n",
        "    # Remove invalid records based on validation\n",
        "    if validation_results['missing_users']:\n",
        "        participations_clean = participations_clean[\n",
        "            ~participations_clean['user_id'].isin(validation_results['missing_users'])\n",
        "        ]\n",
        "\n",
        "    if validation_results['missing_surveys']:\n",
        "        participations_clean = participations_clean[\n",
        "            ~participations_clean['survey_id'].isin(validation_results['missing_surveys'])\n",
        "        ]\n",
        "\n",
        "    if validation_results['invalid_payments']:\n",
        "        payments_clean = payments_clean[\n",
        "            ~payments_clean['payment_id'].isin(validation_results['invalid_payments'])\n",
        "        ]\n",
        "\n",
        "    # Save clean datasets\n",
        "    users_clean.to_csv('clean_users.csv', index=False)\n",
        "    surveys_clean.to_csv('clean_surveys.csv', index=False)\n",
        "    participations_clean.to_csv('clean_participations.csv', index=False)\n",
        "    payments_clean.to_csv('clean_payments.csv', index=False)\n",
        "\n",
        "    return users_clean, surveys_clean, participations_clean, payments_clean"
      ],
      "metadata": {
        "id": "d4_Zr2RWhmLP"
      },
      "execution_count": null,
      "outputs": []
    },
    {
      "cell_type": "code",
      "source": [
        "# 5. Create Analysis Ready Views\n",
        "def create_analysis_views(users_df, surveys_df, participations_df, payments_df):\n",
        "    # User Demographics View\n",
        "    user_demographics = users_df.groupby(['city', 'gender', 'education']).size().reset_index(name='user_count')\n",
        "    # Survey Performance View\n",
        "    survey_performance = surveys_df.merge(\n",
        "        participations_df.groupby('survey_id').size().reset_index(name='actual_participants'),\n",
        "        on='survey_id',\n",
        "        how='left'\n",
        "    )\n",
        "\n",
        "    # User Participation View\n",
        "    user_participation = participations_df.merge(\n",
        "        users_df[['user_id', 'city', 'gender', 'education']],\n",
        "        on='user_id',\n",
        "        how='left'\n",
        "    )\n",
        "\n",
        "    # Payment Analysis View\n",
        "    payment_analysis = payments_df.merge(\n",
        "        surveys_df[['survey_id', 'title', 'reward']],\n",
        "        on='survey_id',\n",
        "        how='left'\n",
        "    ).merge(\n",
        "        users_df[['user_id', 'city', 'gender']],\n",
        "        on='user_id',\n",
        "        how='left'\n",
        "    )\n",
        "\n",
        "    return user_demographics, survey_performance, user_participation, payment_analysis"
      ],
      "metadata": {
        "id": "TNoZqVBgh8ke"
      },
      "execution_count": null,
      "outputs": []
    },
    {
      "cell_type": "code",
      "source": [
        "# Execute the cleaning process\n",
        "if __name__ == \"__main__\":\n",
        "    # Get clean datasets\n",
        "    users_clean, surveys_clean, participations_clean, payments_clean = create_clean_dataset()\n",
        "\n",
        "    # Create analysis views\n",
        "    user_demographics, survey_performance, user_participation, payment_analysis = create_analysis_views(\n",
        "        users_clean,\n",
        "        surveys_clean,\n",
        "        participations_clean,\n",
        "        payments_clean\n",
        "    )\n",
        "\n",
        "    # Save analysis views\n",
        "    user_demographics.to_csv('analysis_user_demographics.csv', index=False)\n",
        "    survey_performance.to_csv('analysis_survey_performance.csv', index=False)\n",
        "    user_participation.to_csv('analysis_user_participation.csv', index=False)\n",
        "    payment_analysis.to_csv('analysis_payment.csv', index=False)"
      ],
      "metadata": {
        "id": "HZuwvbhliQ6N"
      },
      "execution_count": null,
      "outputs": []
    }
  ]
}