{
  "nbformat": 4,
  "nbformat_minor": 0,
  "metadata": {
    "colab": {
      "provenance": [],
      "authorship_tag": "ABX9TyNcHrXlS0DCYPf1It5VKDKK",
      "include_colab_link": true
    },
    "kernelspec": {
      "name": "python3",
      "display_name": "Python 3"
    },
    "language_info": {
      "name": "python"
    }
  },
  "cells": [
    {
      "cell_type": "markdown",
      "metadata": {
        "id": "view-in-github",
        "colab_type": "text"
      },
      "source": [
        "<a href=\"https://colab.research.google.com/github/Muhammad-Lutfi-2002/Data_analytics/blob/main/IKEA_analisis.ipynb\" target=\"_parent\"><img src=\"https://colab.research.google.com/assets/colab-badge.svg\" alt=\"Open In Colab\"/></a>"
      ]
    },
    {
      "cell_type": "code",
      "execution_count": 4,
      "metadata": {
        "colab": {
          "base_uri": "https://localhost:8080/",
          "height": 0
        },
        "id": "q1kjOtSAFB20",
        "outputId": "b36bee6e-7829-4d95-984c-b58a5568a7f2"
      },
      "outputs": [
        {
          "output_type": "stream",
          "name": "stdout",
          "text": [
            "Requirement already satisfied: pandas in /usr/local/lib/python3.11/dist-packages (2.2.2)\n",
            "Requirement already satisfied: numpy>=1.23.2 in /usr/local/lib/python3.11/dist-packages (from pandas) (1.26.4)\n",
            "Requirement already satisfied: python-dateutil>=2.8.2 in /usr/local/lib/python3.11/dist-packages (from pandas) (2.8.2)\n",
            "Requirement already satisfied: pytz>=2020.1 in /usr/local/lib/python3.11/dist-packages (from pandas) (2024.2)\n",
            "Requirement already satisfied: tzdata>=2022.7 in /usr/local/lib/python3.11/dist-packages (from pandas) (2024.2)\n",
            "Requirement already satisfied: six>=1.5 in /usr/local/lib/python3.11/dist-packages (from python-dateutil>=2.8.2->pandas) (1.17.0)\n",
            "Requirement already satisfied: nltk in /usr/local/lib/python3.11/dist-packages (3.9.1)\n",
            "Requirement already satisfied: click in /usr/local/lib/python3.11/dist-packages (from nltk) (8.1.8)\n",
            "Requirement already satisfied: joblib in /usr/local/lib/python3.11/dist-packages (from nltk) (1.4.2)\n",
            "Requirement already satisfied: regex>=2021.8.3 in /usr/local/lib/python3.11/dist-packages (from nltk) (2024.11.6)\n",
            "Requirement already satisfied: tqdm in /usr/local/lib/python3.11/dist-packages (from nltk) (4.67.1)\n",
            "Requirement already satisfied: transformers in /usr/local/lib/python3.11/dist-packages (4.47.1)\n",
            "Requirement already satisfied: filelock in /usr/local/lib/python3.11/dist-packages (from transformers) (3.16.1)\n",
            "Requirement already satisfied: huggingface-hub<1.0,>=0.24.0 in /usr/local/lib/python3.11/dist-packages (from transformers) (0.27.1)\n",
            "Requirement already satisfied: numpy>=1.17 in /usr/local/lib/python3.11/dist-packages (from transformers) (1.26.4)\n",
            "Requirement already satisfied: packaging>=20.0 in /usr/local/lib/python3.11/dist-packages (from transformers) (24.2)\n",
            "Requirement already satisfied: pyyaml>=5.1 in /usr/local/lib/python3.11/dist-packages (from transformers) (6.0.2)\n",
            "Requirement already satisfied: regex!=2019.12.17 in /usr/local/lib/python3.11/dist-packages (from transformers) (2024.11.6)\n",
            "Requirement already satisfied: requests in /usr/local/lib/python3.11/dist-packages (from transformers) (2.32.3)\n",
            "Requirement already satisfied: tokenizers<0.22,>=0.21 in /usr/local/lib/python3.11/dist-packages (from transformers) (0.21.0)\n",
            "Requirement already satisfied: safetensors>=0.4.1 in /usr/local/lib/python3.11/dist-packages (from transformers) (0.5.2)\n",
            "Requirement already satisfied: tqdm>=4.27 in /usr/local/lib/python3.11/dist-packages (from transformers) (4.67.1)\n",
            "Requirement already satisfied: fsspec>=2023.5.0 in /usr/local/lib/python3.11/dist-packages (from huggingface-hub<1.0,>=0.24.0->transformers) (2024.10.0)\n",
            "Requirement already satisfied: typing-extensions>=3.7.4.3 in /usr/local/lib/python3.11/dist-packages (from huggingface-hub<1.0,>=0.24.0->transformers) (4.12.2)\n",
            "Requirement already satisfied: charset-normalizer<4,>=2 in /usr/local/lib/python3.11/dist-packages (from requests->transformers) (3.4.1)\n",
            "Requirement already satisfied: idna<4,>=2.5 in /usr/local/lib/python3.11/dist-packages (from requests->transformers) (3.10)\n",
            "Requirement already satisfied: urllib3<3,>=1.21.1 in /usr/local/lib/python3.11/dist-packages (from requests->transformers) (2.3.0)\n",
            "Requirement already satisfied: certifi>=2017.4.17 in /usr/local/lib/python3.11/dist-packages (from requests->transformers) (2024.12.14)\n",
            "Requirement already satisfied: matplotlib in /usr/local/lib/python3.11/dist-packages (3.10.0)\n",
            "Requirement already satisfied: contourpy>=1.0.1 in /usr/local/lib/python3.11/dist-packages (from matplotlib) (1.3.1)\n",
            "Requirement already satisfied: cycler>=0.10 in /usr/local/lib/python3.11/dist-packages (from matplotlib) (0.12.1)\n",
            "Requirement already satisfied: fonttools>=4.22.0 in /usr/local/lib/python3.11/dist-packages (from matplotlib) (4.55.3)\n",
            "Requirement already satisfied: kiwisolver>=1.3.1 in /usr/local/lib/python3.11/dist-packages (from matplotlib) (1.4.8)\n",
            "Requirement already satisfied: numpy>=1.23 in /usr/local/lib/python3.11/dist-packages (from matplotlib) (1.26.4)\n",
            "Requirement already satisfied: packaging>=20.0 in /usr/local/lib/python3.11/dist-packages (from matplotlib) (24.2)\n",
            "Requirement already satisfied: pillow>=8 in /usr/local/lib/python3.11/dist-packages (from matplotlib) (11.1.0)\n",
            "Requirement already satisfied: pyparsing>=2.3.1 in /usr/local/lib/python3.11/dist-packages (from matplotlib) (3.2.1)\n",
            "Requirement already satisfied: python-dateutil>=2.7 in /usr/local/lib/python3.11/dist-packages (from matplotlib) (2.8.2)\n",
            "Requirement already satisfied: six>=1.5 in /usr/local/lib/python3.11/dist-packages (from python-dateutil>=2.7->matplotlib) (1.17.0)\n"
          ]
        },
        {
          "output_type": "stream",
          "name": "stderr",
          "text": [
            "[nltk_data] Downloading package vader_lexicon to /root/nltk_data...\n",
            "[nltk_data]   Package vader_lexicon is already up-to-date!\n",
            "[nltk_data] Downloading package stopwords to /root/nltk_data...\n",
            "[nltk_data]   Package stopwords is already up-to-date!\n",
            "[nltk_data] Downloading package punkt to /root/nltk_data...\n",
            "[nltk_data]   Package punkt is already up-to-date!\n",
            "[nltk_data] Downloading package punkt_tab to /root/nltk_data...\n",
            "[nltk_data]   Unzipping tokenizers/punkt_tab.zip.\n"
          ]
        },
        {
          "output_type": "execute_result",
          "data": {
            "text/plain": [
              "True"
            ]
          },
          "metadata": {},
          "execution_count": 4
        }
      ],
      "source": [
        "# Install library yang dibutuhkan\n",
        "!pip install pandas\n",
        "!pip install nltk\n",
        "!pip install transformers\n",
        "!pip install matplotlib\n",
        "\n",
        "# Import library\n",
        "import pandas as pd\n",
        "import re\n",
        "import nltk\n",
        "from nltk.sentiment.vader import SentimentIntensityAnalyzer\n",
        "from transformers import pipeline\n",
        "import matplotlib.pyplot as plt\n",
        "from nltk.corpus import stopwords\n",
        "from nltk.tokenize import word_tokenize\n",
        "\n",
        "# Download resources nltk\n",
        "nltk.download('vader_lexicon')\n",
        "nltk.download('stopwords')\n",
        "nltk.download('punkt')\n",
        "nltk.download('punkt_tab')"
      ]
    },
    {
      "cell_type": "code",
      "source": [
        "# Load Data dari file CSV\n",
        "try:\n",
        "    df = pd.read_csv(\"ikea.csv\")\n",
        "except FileNotFoundError:\n",
        "    print(\"File ikea.csv tidak ditemukan. Pastikan file tersebut ada di direktori yang benar.\")\n",
        "except Exception as e:\n",
        "    print(f\"Terjadi error saat membaca file: {e}\")\n",
        "\n",
        "if 'df' in locals():\n",
        "    print(\"Data berhasil di-load.\")\n",
        "    # Tampilkan beberapa baris pertama untuk verifikasi\n",
        "    print(df.head())"
      ],
      "metadata": {
        "colab": {
          "base_uri": "https://localhost:8080/",
          "height": 0
        },
        "id": "XSkJX4CUFTDp",
        "outputId": "fae32b09-c2a3-4f80-bfc9-6141a379b3d5"
      },
      "execution_count": 5,
      "outputs": [
        {
          "output_type": "stream",
          "name": "stdout",
          "text": [
            "Data berhasil di-load.\n",
            "   conversation_id_str                      created_at  favorite_count  \\\n",
            "0  1873870431343526273  Tue Dec 31 23:59:13 +0000 2024               0   \n",
            "1  1874212612453654888  Tue Dec 31 22:07:48 +0000 2024               0   \n",
            "2  1874205225260663153  Tue Dec 31 21:29:42 +0000 2024               1   \n",
            "3  1874150843521654822  Tue Dec 31 19:18:59 +0000 2024               0   \n",
            "4  1874171350308548690  Tue Dec 31 19:10:44 +0000 2024               0   \n",
            "\n",
            "                                           full_text               id_str  \\\n",
            "0  @velvet__daze ace tuh brand lokal bukan ya? ka...  1874243946244956461   \n",
            "1                                  @d3adfix Ikea tas  1874215906865557916   \n",
            "2  @UtanoPandora IKEA MENTION! https://t.co/6n1nu...  1874206318866944130   \n",
            "3  @brobroronto GOAT interior design kalo sampe a...  1874173425251738034   \n",
            "4  Efek minum kopi IKEA refill 2x.. Jam segini ma...  1874171350308548690   \n",
            "\n",
            "                                           image_url in_reply_to_screen_name  \\\n",
            "0                                                NaN            velvet__daze   \n",
            "1                                                NaN                 d3adfix   \n",
            "2  https://pbs.twimg.com/tweet_video_thumb/GgKEte...            UtanoPandora   \n",
            "3    https://pbs.twimg.com/media/GgJmb3_bwAE27Uk.jpg            parttimerant   \n",
            "4    https://pbs.twimg.com/media/GgJk6DmbYAAjFOl.jpg                     NaN   \n",
            "\n",
            "  lang                   location  quote_count  reply_count  retweet_count  \\\n",
            "0   in                        NaN            0            0              0   \n",
            "1   in  firstprince core she/her             0            0              0   \n",
            "2   in  acapellamediaen@gmail.com            0            0              0   \n",
            "3   in                        NaN            0            0              0   \n",
            "4   in                 tasty road            0            0              0   \n",
            "\n",
            "                                           tweet_url          user_id_str  \\\n",
            "0  https://x.com/cadira0223/status/18742439462449...  1732936836421742592   \n",
            "1  https://x.com/AnjaWritingsx/status/18742159068...            268675403   \n",
            "2  https://x.com/AcapellaEN/status/18742063188669...  1707807325342310400   \n",
            "3  https://x.com/parttimerant/status/187417342525...  1123371439548129280   \n",
            "4  https://x.com/halloarie/status/187417135030854...             37384168   \n",
            "\n",
            "        username  \n",
            "0     cadira0223  \n",
            "1  AnjaWritingsx  \n",
            "2     AcapellaEN  \n",
            "3   parttimerant  \n",
            "4      halloarie  \n"
          ]
        }
      ]
    },
    {
      "cell_type": "code",
      "source": [
        "import nltk\n",
        "from nltk.corpus import stopwords\n",
        "from nltk.tokenize import word_tokenize\n",
        "import re\n",
        "\n",
        "nltk.download('stopwords')\n",
        "nltk.download('punkt')\n",
        "def preprocess_tweet(text):\n",
        "    # Hapus mention (@username)\n",
        "    text = re.sub(r'@[A-Za-z0-9]+', '', text)\n",
        "    # Hapus URL\n",
        "    text = re.sub(r'http\\S+', '', text)\n",
        "    # Hapus tanda baca dan karakter non-alphanumeric\n",
        "    text = re.sub(r'[^a-zA-Z0-9\\s]', '', text)\n",
        "    # Hapus hashtag\n",
        "    text = re.sub(r'#\\w+', '', text)\n",
        "    # Lowercase text\n",
        "    text = text.lower()\n",
        "    # Tokenisasi\n",
        "    tokens = word_tokenize(text)\n",
        "     # Stop words kustom\n",
        "    custom_stopwords = set(stopwords.words('english')) - set(['not', 'but', 'never'])\n",
        "    filtered_tokens = [word for word in tokens if word not in custom_stopwords]\n",
        "    # Gabungkan kembali tokens\n",
        "    text = ' '.join(filtered_tokens)\n",
        "\n",
        "    return text"
      ],
      "metadata": {
        "colab": {
          "base_uri": "https://localhost:8080/",
          "height": 0
        },
        "id": "nrF7tEunFaMj",
        "outputId": "f1731f46-d928-4914-dd92-d1cf35104985"
      },
      "execution_count": 10,
      "outputs": [
        {
          "output_type": "stream",
          "name": "stderr",
          "text": [
            "[nltk_data] Downloading package stopwords to /root/nltk_data...\n",
            "[nltk_data]   Package stopwords is already up-to-date!\n",
            "[nltk_data] Downloading package punkt to /root/nltk_data...\n",
            "[nltk_data]   Package punkt is already up-to-date!\n"
          ]
        }
      ]
    },
    {
      "cell_type": "code",
      "source": [
        "if 'df' in locals():\n",
        "  # Fungsi untuk mendapatkan sentimen dengan VADER\n",
        "  def get_vader_sentiment(text):\n",
        "      analyzer = SentimentIntensityAnalyzer()\n",
        "      scores = analyzer.polarity_scores(text)\n",
        "      if scores['compound'] >= 0.05:\n",
        "          return 'positive'\n",
        "      elif scores['compound'] <= -0.05:\n",
        "          return 'negative'\n",
        "      else:\n",
        "          return 'neutral'\n",
        "\n",
        "  # Terapkan analisis sentimen VADER\n",
        "  df['vader_sentiment'] = df['cleaned_text'].apply(get_vader_sentiment)\n",
        "\n",
        "  print(\"Analisis sentimen VADER selesai.\")\n",
        "  print(df[['full_text', 'cleaned_text', 'vader_sentiment']].head())"
      ],
      "metadata": {
        "colab": {
          "base_uri": "https://localhost:8080/",
          "height": 0
        },
        "id": "LGCE37uLF277",
        "outputId": "db91e58f-6a05-4818-d75e-6efef571141b"
      },
      "execution_count": 11,
      "outputs": [
        {
          "output_type": "stream",
          "name": "stdout",
          "text": [
            "Analisis sentimen VADER selesai.\n",
            "                                           full_text  \\\n",
            "0  @velvet__daze ace tuh brand lokal bukan ya? ka...   \n",
            "1                                  @d3adfix Ikea tas   \n",
            "2  @UtanoPandora IKEA MENTION! https://t.co/6n1nu...   \n",
            "3  @brobroronto GOAT interior design kalo sampe a...   \n",
            "4  Efek minum kopi IKEA refill 2x.. Jam segini ma...   \n",
            "\n",
            "                                        cleaned_text vader_sentiment  \n",
            "0  daze ace tuh brand lokal bukan ya kalo apakah ...        negative  \n",
            "1                                           ikea tas         neutral  \n",
            "2                                       ikea mention         neutral  \n",
            "3  goat interior design kalo sampe ada furniture ...         neutral  \n",
            "4  efek minum kopi ikea refill 2x jam segini masi...         neutral  \n"
          ]
        }
      ]
    },
    {
      "cell_type": "code",
      "source": [
        "if 'df' in locals():\n",
        "  # Hitung jumlah sentimen\n",
        "  sentiment_counts = df['vader_sentiment'].value_counts()\n",
        "  print(\"Distribusi sentimen:\")\n",
        "  print(sentiment_counts)\n",
        "\n",
        "  # Hitung proporsi sentimen\n",
        "  sentiment_proportions = df['vader_sentiment'].value_counts(normalize=True) * 100\n",
        "  print(\"\\nProporsi sentimen (%):\")\n",
        "  print(sentiment_proportions)"
      ],
      "metadata": {
        "colab": {
          "base_uri": "https://localhost:8080/",
          "height": 0
        },
        "id": "xMgzxg99F6rM",
        "outputId": "e89ba007-6c7a-4af3-a890-e2094e487f31"
      },
      "execution_count": 12,
      "outputs": [
        {
          "output_type": "stream",
          "name": "stdout",
          "text": [
            "Distribusi sentimen:\n",
            "vader_sentiment\n",
            "neutral     176\n",
            "positive     30\n",
            "negative     10\n",
            "Name: count, dtype: int64\n",
            "\n",
            "Proporsi sentimen (%):\n",
            "vader_sentiment\n",
            "neutral     81.481481\n",
            "positive    13.888889\n",
            "negative     4.629630\n",
            "Name: proportion, dtype: float64\n"
          ]
        }
      ]
    },
    {
      "cell_type": "code",
      "source": [
        "if 'df' in locals():\n",
        "  # Visualisasi distribusi sentimen\n",
        "  sentiment_counts.plot(kind='bar', color=['green', 'red', 'blue'], title='Distribusi Sentimen Tweet IKEA (VADER)')\n",
        "  plt.xlabel('Sentimen')\n",
        "  plt.ylabel('Jumlah Tweet')\n",
        "  plt.show()"
      ],
      "metadata": {
        "colab": {
          "base_uri": "https://localhost:8080/",
          "height": 519
        },
        "id": "Y6y4E32BGAT8",
        "outputId": "ddcfc98f-4ad6-4c1a-bfeb-6804899b7fbb"
      },
      "execution_count": 9,
      "outputs": [
        {
          "output_type": "display_data",
          "data": {
            "text/plain": [
              "<Figure size 640x480 with 1 Axes>"
            ],
            "image/png": "[encoded data removed]"
          },
          "metadata": {}
        }
      ]
    },
    {
      "cell_type": "code",
      "source": [
        "if 'df' in locals():\n",
        "  print(\"\\nInterpretasi Hasil:\")\n",
        "  print(\"Berdasarkan analisis sentimen VADER, kita dapat melihat distribusi dan proporsi sentimen terkait IKEA di Twitter. \"\n",
        "        \"Sentimen 'positive' menunjukkan tweet yang mengungkapkan pengalaman positif terhadap IKEA. \"\n",
        "        \"Sentimen 'negative' mengindikasikan tweet dengan keluhan atau kritikan. \"\n",
        "        \"Sentimen 'neutral' menggambarkan tweet yang tidak memiliki konotasi positif atau negatif yang kuat.\")\n",
        "  print(\"Analisis ini membantu dalam memahami opini publik terkait brand IKEA dan dapat digunakan untuk meningkatkan strategi bisnis, \"\n",
        "        \"seperti memperbaiki area layanan yang mendapatkan banyak keluhan atau mempertahankan aspek produk yang dipuji.\")\n",
        "\n",
        "  print(\"\\nSaran:\")\n",
        "  print(\"- Perhatikan proporsi sentimen 'negative' dan analisis lebih lanjut isi tweet untuk mengidentifikasi masalah yang perlu diperbaiki. \"\n",
        "        \"- Terus pantau sentimen publik untuk memahami perubahan tren dan kebutuhan pelanggan.\")"
      ],
      "metadata": {
        "colab": {
          "base_uri": "https://localhost:8080/",
          "height": 0
        },
        "id": "6b9Q4C4JGaOB",
        "outputId": "a7c9deea-c1b0-441e-c135-57f9acc4d261"
      },
      "execution_count": 13,
      "outputs": [
        {
          "output_type": "stream",
          "name": "stdout",
          "text": [
            "\n",
            "Interpretasi Hasil:\n",
            "Berdasarkan analisis sentimen VADER, kita dapat melihat distribusi dan proporsi sentimen terkait IKEA di Twitter. Sentimen 'positive' menunjukkan tweet yang mengungkapkan pengalaman positif terhadap IKEA. Sentimen 'negative' mengindikasikan tweet dengan keluhan atau kritikan. Sentimen 'neutral' menggambarkan tweet yang tidak memiliki konotasi positif atau negatif yang kuat.\n",
            "Analisis ini membantu dalam memahami opini publik terkait brand IKEA dan dapat digunakan untuk meningkatkan strategi bisnis, seperti memperbaiki area layanan yang mendapatkan banyak keluhan atau mempertahankan aspek produk yang dipuji.\n",
            "\n",
            "Saran:\n",
            "- Perhatikan proporsi sentimen 'negative' dan analisis lebih lanjut isi tweet untuk mengidentifikasi masalah yang perlu diperbaiki. - Terus pantau sentimen publik untuk memahami perubahan tren dan kebutuhan pelanggan.\n"
          ]
        }
      ]
    }
  ]
}